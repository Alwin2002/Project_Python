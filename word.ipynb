{
  "cells": [
    {
      "cell_type": "code",
      "execution_count": null,
      "metadata": {
        "id": "YT5ZUfARui1H"
      },
      "outputs": [],
      "source": [
        "import fnmatch\n",
        "import cv2\n",
        "import numpy as np\n",
        "import string\n",
        "import time\n",
        "from tensorflow.keras.utils import pad_sequences\n",
        "from keras.layers import Dense, LSTM, Reshape, BatchNormalization, Input, Conv2D, MaxPool2D, Lambda, Bidirectional\n",
        "from keras.models import Model\n",
        "from keras.activations import relu, sigmoid, softmax\n",
        "import keras.backend as K\n",
        "from keras.utils import to_categorical\n",
        "from keras.callbacks import ModelCheckpoint\n",
        "import os\n",
        "import tensorflow as tf\n",
        "import random\n",
        "import matplotlib.pyplot as plt\n",
        "from PIL import Image"
      ]
    },
    {
      "cell_type": "code",
      "execution_count": null,
      "metadata": {
        "id": "NyYWkUvSui1J"
      },
      "outputs": [],
      "source": [
        "char_list = string.ascii_letters+string.digits"
      ]
    },
    {
      "cell_type": "code",
      "execution_count": null,
      "metadata": {
        "id": "mGIZDAekui1K"
      },
      "outputs": [],
      "source": [
        "def encode_to_labels(txt):\n",
        "   \n",
        "    dig_lst = []\n",
        "    for index, char in enumerate(txt):\n",
        "        try:\n",
        "            dig_lst.append(char_list.index(char))\n",
        "        except:\n",
        "            print(char)\n",
        "        \n",
        "    return dig_lst\n",
        "\n",
        "def find_dominant_color(image):\n",
        "\n",
        "        width, height = 150,150\n",
        "        image = image.resize((width, height),resample = 0)\n",
        " \n",
        "        pixels = image.getcolors(width * height)\n",
        "\n",
        "        sorted_pixels = sorted(pixels, key=lambda t: t[0])\n",
        "\n",
        "        dominant_color = sorted_pixels[-1][1]\n",
        "        return dominant_color\n",
        "\n",
        "def preprocess_img(img, imgSize):\n",
        "    if img is None:\n",
        "        img = np.zeros([imgSize[1], imgSize[0]]) \n",
        "        print(\"Image None!\")\n",
        "\n",
        "   \n",
        "    (wt, ht) = imgSize\n",
        "    (h, w) = img.shape\n",
        "    fx = w / wt\n",
        "    fy = h / ht\n",
        "    f = max(fx, fy)\n",
        "    newSize = (max(min(wt, int(w / f)), 1),\n",
        "               max(min(ht, int(h / f)), 1))  \n",
        "    img = cv2.resize(img, newSize, interpolation=cv2.INTER_CUBIC) \n",
        "                                                              \n",
        "    most_freq_pixel=find_dominant_color(Image.fromarray(img))\n",
        "    target = np.ones([ht, wt]) * most_freq_pixel  \n",
        "    target[0:newSize[1], 0:newSize[0]] = img\n",
        "\n",
        "    img = target\n",
        "\n",
        "    return img"
      ]
    },
    {
      "cell_type": "code",
      "execution_count": null,
      "metadata": {
        "id": "KkULgmw2ui1L"
      },
      "outputs": [],
      "source": [
        "training_img = []\n",
        "training_txt = []\n",
        "train_input_length = []\n",
        "train_label_length = []\n",
        "orig_txt = []\n",
        "valid_img = []\n",
        "valid_txt = []\n",
        "valid_input_length = []\n",
        "valid_label_length = []\n",
        "valid_orig_txt = []\n",
        "max_label_len = 0\n",
        "\n",
        "annot=open('/content/drive/MyDrive/annotation.txt','r').readlines()\n",
        "imagenames=[]\n",
        "txts=[]\n",
        "\n",
        "for cnt in annot:\n",
        "    filename,txt=cnt.split(',')[0],cnt.split(',')[1].split('\\n')[0]\n",
        "    imagenames.append(filename)\n",
        "    txts.append(txt)\n",
        "    \n",
        "\n",
        "    \n",
        "\n",
        "    \n",
        "for i in range(200):\n",
        "        img = cv2.imread('/content/drive/MyDrive/images/'+imagenames[i],0)   \n",
        " \n",
        "        img=preprocess_img(img,(128,32))\n",
        "        img=np.expand_dims(img,axis=-1)\n",
        "        img = img/255.\n",
        "        txt = txts[i]\n",
        "        \n",
        "\n",
        "        if len(txt) > max_label_len:\n",
        "            max_label_len = len(txt)\n",
        "            \n",
        "           \n",
        "\n",
        "        if i%10 == 0:     \n",
        "            valid_orig_txt.append(txt)   \n",
        "            valid_label_length.append(len(txt))\n",
        "            valid_input_length.append(31)\n",
        "            valid_img.append(img)\n",
        "            valid_txt.append(encode_to_labels(txt))\n",
        "        else:\n",
        "            orig_txt.append(txt)   \n",
        "            train_label_length.append(len(txt))\n",
        "            train_input_length.append(31)\n",
        "            training_img.append(img)\n",
        "            training_txt.append(encode_to_labels(txt)) \n",
        "        \n",
        "        \n",
        "        if i == 150000:\n",
        "            flag = 1\n",
        "            break\n",
        "        i+=1"
      ]
    },
    {
      "cell_type": "code",
      "execution_count": null,
      "metadata": {
        "id": "fpW9TqLCui1N"
      },
      "outputs": [],
      "source": [
        "train_padded_txt = pad_sequences(training_txt, maxlen=max_label_len, padding='post', value = len(char_list))\n",
        "valid_padded_txt = pad_sequences(valid_txt, maxlen=max_label_len, padding='post', value = len(char_list))"
      ]
    },
    {
      "cell_type": "code",
      "source": [
        "print(training_txt)"
      ],
      "metadata": {
        "colab": {
          "base_uri": "https://localhost:8080/"
        },
        "id": "bmGrYw0e-w3z",
        "outputId": "f3580f1c-9bd6-4903-96f6-14dd7c2abc0d"
      },
      "execution_count": null,
      "outputs": [
        {
          "output_type": "stream",
          "name": "stdout",
          "text": [
            "[[3, 17, 20, 0, 11, 15, 20], [4, 1], [22, 9, 7, 23, 16, 15, 24, 8], [23, 22, 24, 7, 18, 25, 17, 6, 6, 21, 13, 21, 21, 20, 15, 24, 22], [15, 11, 11, 23, 23, 18, 14, 8, 18, 10, 7, 12, 0, 2, 23], [11, 3, 7, 14], [12, 9, 4, 9, 8, 5, 13, 7, 9, 10, 0, 13, 4, 6, 20, 14, 10], [11, 25, 14, 0, 9], [2, 25, 2, 24, 5], [19, 19, 15, 20, 9, 4, 19, 17, 21], [17, 6, 15, 17, 15, 25, 2], [7, 16, 14, 12, 5, 21], [22, 5, 14, 11, 15, 7, 4, 5, 5, 21, 24], [4, 2, 0, 10, 1, 7, 12, 23, 19, 21, 3, 24, 22, 2, 0, 24, 0, 22], [14, 5, 22, 13, 13, 3, 6, 1, 5, 2], [17, 12, 10, 11, 19, 11, 23, 2, 19, 9, 20, 25, 2], [9, 16, 9, 21, 21, 14], [0, 7, 4, 17, 23, 6, 9, 21, 10, 22], [3, 25, 19, 22, 8, 17, 13, 13, 24], [6, 21, 22, 22, 14, 7, 9, 18, 0, 11, 25, 20], [3, 12, 8, 16, 0, 13, 5, 16, 9, 20, 22, 14, 18, 11, 22], [21, 24, 3, 3, 6, 16, 15, 15], [2, 0, 2, 4, 19, 24, 14, 14, 24, 11, 22, 3, 19, 14, 16, 17, 17], [24, 8, 16, 15, 12, 10, 19, 24, 17, 18, 7, 21], [13, 14, 17, 18, 22, 19, 24, 8, 21], [12, 2], [1, 8, 12, 24, 14, 15, 22, 18, 4, 16, 3, 24, 23, 14, 7, 2], [17, 23, 9, 23, 3, 6], [23, 5, 19, 9, 0, 16, 22, 18, 23, 10], [21, 22, 11, 16, 5, 4, 20, 15, 18, 19, 16, 19, 14, 15, 12, 14, 5], [3, 12, 15, 9, 23, 11, 0], [12, 24, 7, 24, 16, 7, 5, 6, 9, 3, 11, 7, 4, 15], [0, 22, 0, 2, 6, 15, 9, 11, 17, 19, 0, 16, 20, 14, 3, 22, 0], [17], [23, 3, 16, 23], [5, 23, 0, 1, 0, 19, 6, 10, 0, 9, 5, 6], [12, 14, 9, 4, 23, 7, 20, 2, 18, 17, 11, 15], [25, 5, 1, 6, 11, 5, 23, 24, 17, 3, 3, 18, 17, 12], [11, 9, 0, 18, 18, 9, 16, 20, 10, 15, 0, 18, 4, 13, 24, 23], [23, 10, 3, 3, 17, 24, 16, 4, 16, 5, 15, 9, 11, 14, 20, 19, 1, 14, 10], [6, 21, 19, 23, 10, 22, 8, 17, 16, 12, 19, 13, 16, 24, 11], [12, 18, 0, 20, 11], [22, 9, 21, 13, 0, 1, 25, 7, 10, 20, 10, 22, 4, 17, 3, 1, 24, 7, 18, 18], [15, 3, 23, 13, 3, 25, 25, 0, 7, 22, 23], [16, 14, 8, 15, 4, 24, 12, 22, 3, 14, 21, 20, 15], [10, 7, 9, 16, 24, 18, 10, 10, 19, 18, 21, 1, 16, 21], [5, 20, 14, 11, 23], [1, 16, 8, 10], [14, 5, 7, 5, 4, 5, 7, 15, 9, 9, 17, 14, 25], [24, 25, 2, 25, 23, 5, 16], [18, 6, 5, 20, 14, 2, 7], [3], [9, 7, 12], [6, 17, 2, 16], [11, 22, 12, 23, 11, 23, 4, 0, 1, 19, 13, 14, 12, 21, 1, 6], [4, 1, 3, 23, 9, 7, 21, 12, 18, 5, 16, 22, 22, 23, 2], [4, 13, 17, 20, 9, 20, 18], [19, 24, 18, 6, 21, 8, 6, 17, 7, 23], [21, 3, 9, 1, 7, 3, 3, 13, 18, 15, 24, 12, 24, 21], [18, 15, 15, 13, 5, 1, 3, 15], [22, 23, 16, 25, 21, 24, 25, 1, 15, 11, 23, 23, 4, 14, 24, 6, 4, 6, 25], [11, 0, 4, 6, 14, 9, 3, 8, 4, 20, 2], [3, 13, 24, 3, 3, 1, 13, 11, 1, 11, 4, 8], [11, 25], [25, 19, 3, 3], [4, 2, 8, 17, 2, 0, 2, 3, 3, 18, 20, 9, 24, 7, 23, 11, 25, 14], [19, 21, 11, 22, 5, 20, 18, 15, 22, 11, 19, 0, 6, 13, 17, 7, 15], [24, 19, 4, 1, 17, 24], [25, 9, 1, 24, 9], [19, 8, 16, 3, 21, 1, 12, 21, 11], [24, 1, 0], [11, 14, 21, 14, 10, 22, 11, 6, 4], [9, 3, 3, 14, 1, 15, 10], [16, 18], [5, 1, 17, 13, 6, 20], [25, 11, 23, 23, 16, 14, 14, 25, 13, 17, 23, 0, 3, 11, 1, 8, 10, 15], [18, 4, 23, 19, 1, 20, 24, 8, 6, 0, 7, 0, 11, 21, 10, 8, 5], [0, 2, 6, 15, 14, 10, 24, 21, 16, 22], [2, 1, 2, 12, 19, 23, 8, 0, 8, 3, 20, 12, 8, 22, 24, 19, 0, 5, 16, 13], [1, 25, 0, 14, 9, 1, 19, 19, 17, 24, 18, 16, 23], [24, 8, 14, 2, 2, 4], [22, 1, 15, 23, 13, 11, 11, 14, 23, 1, 10, 16, 10, 22], [20, 21, 25, 9, 14, 18, 1, 16, 23], [16], [14, 5], [7, 25, 19, 5, 5, 24, 18, 14, 10, 24, 1], [0], [14, 12], [20, 24, 18, 17], [3, 18, 16, 5, 1, 20, 0, 2, 4, 3, 9, 7], [17, 11, 8, 12, 7, 8, 0, 2, 24, 22, 7, 20, 7, 25, 2, 25, 17, 3, 18, 14], [16, 2, 12, 15, 24, 12, 11, 17, 15, 18, 11, 18, 23, 14, 10, 23, 19], [6, 10, 5, 17, 18, 15, 10, 13, 9, 7, 17, 4, 1, 22, 13, 11, 22, 21, 8], [10, 8, 8, 2, 20, 19, 23, 21, 15, 15, 20, 22, 8, 2], [5, 23, 2, 8, 0, 25, 0, 11], [11, 18], [5, 22, 20], [13, 15, 21], [20], [6], [11, 21, 12, 3, 21, 11, 3], [12, 25, 22, 10, 21, 17, 20, 4, 3, 10, 19, 8, 8, 24, 16, 17, 8], [11], [23, 8, 4, 12, 19, 11, 22, 6, 13, 23, 3, 21], [15, 7], [4, 5, 22, 15, 25], [19, 20, 18, 11, 18, 7, 25, 0, 15, 3, 16, 13, 10, 4, 15, 6], [21], [15, 13, 23, 18, 18], [22, 2, 17], [23, 24, 0, 5, 12, 21, 22, 0], [1], [5, 0, 14, 22, 0, 24, 6, 19, 24, 11, 8, 15, 8, 11, 9, 19, 1, 9], [20, 15, 4, 2, 2, 3, 4, 2, 0, 3, 11, 21, 20, 18, 12, 11, 9], [0, 16, 23, 16, 15, 6, 7, 7, 6, 16, 6, 20, 25, 21, 5, 11, 9, 16], [23, 8, 6, 17, 19, 6, 5, 15, 18, 25, 9], [15, 2, 13, 8], [2, 3, 5, 15, 12, 0, 25, 17, 7, 14, 11, 4, 7, 12, 15, 13, 20], [5, 16, 22, 6, 18, 3, 14, 11], [18, 3, 3, 16, 17, 21], [5, 20, 15, 1, 2, 18, 14, 20, 19, 25, 25, 1, 0, 16, 20, 22, 17, 16, 19, 11], [1, 5, 14, 15, 1, 17, 7, 6, 18, 12, 13, 19, 2, 2, 16, 9, 18], [22, 4, 9, 10, 13, 3, 10, 5, 19, 14, 2, 10, 4, 7, 14, 2, 18, 19], [5, 14, 2, 24, 17, 24, 10, 11, 20, 11, 25, 0, 3, 12, 23, 23, 18, 18, 22, 0], [21, 6, 21, 1, 22, 8, 22, 24, 6, 12, 25, 14], [24], [20, 18, 16, 25, 17, 3, 7, 22], [4, 8, 2, 13, 19, 5, 5, 15, 14, 23, 13, 15, 4, 23, 8, 12, 14, 5, 21, 24], [24, 8, 20, 5, 16, 5, 3], [3, 21, 11, 5, 15, 25, 2, 7, 16, 23, 17, 20, 2, 19, 0, 10], [17, 1, 7, 14, 22, 18, 6, 19], [11], [0, 25, 4, 5, 11, 14, 2], [19, 16, 16, 22, 21, 11, 25, 4, 24, 5, 3, 21], [23, 25, 9, 24, 7, 6, 9, 2, 10, 17, 10, 20, 9, 5, 23, 8, 23], [20, 11, 11, 1, 17, 2, 18, 13, 11, 20, 22, 23, 16, 7], [13, 23, 11, 24, 24, 20, 0, 14, 3, 19, 12, 23, 19, 19, 21, 3, 13], [0, 18, 21, 21, 14, 19, 18, 17, 18, 19, 25, 1], [8, 24, 17, 3, 9, 6, 3, 16, 9, 1, 6, 9, 21, 11, 15, 16, 24, 6], [20], [10, 6, 16, 0, 20, 2, 1, 9], [17, 10, 22, 9, 3, 8, 7, 5, 20, 19, 3, 25, 17, 16, 25, 3, 23, 20], [16, 21, 4, 16, 7, 16, 21, 16, 0, 14, 19, 13], [6, 13, 16, 14, 23, 16, 16, 21, 9, 22, 19, 6], [22, 6, 21], [22, 24, 11, 3, 7, 10, 23], [13, 24, 8, 13, 19, 12, 10, 7], [12, 21, 18, 9, 9, 11, 15, 9, 14, 1, 7, 17, 21, 2, 18, 23, 6, 24, 4, 15], [23, 14, 2, 3, 21, 9, 12, 11, 10, 25, 6, 24, 5, 4, 24, 1, 4, 20, 23], [12, 14, 24, 16, 3, 4], [20, 8], [12, 16, 23, 1, 12, 6, 11, 23, 4, 24, 6, 2, 0, 5, 20, 9, 8, 10], [7, 17, 6, 4, 23, 0, 3, 5, 13, 3, 17, 18, 10, 23, 22, 18, 25, 12], [8, 1, 10, 22, 3, 9, 7, 21, 8, 16, 2, 11, 24, 7, 13, 6, 25, 24, 18, 6], [7], [10], [13, 17, 3, 12, 18, 4, 23, 9, 25, 8, 13, 19, 3, 13, 20, 3, 8], [21, 11, 5, 14, 5, 11, 21, 24, 25, 23, 21, 13, 9, 20, 20, 14, 8, 13, 19], [8, 12, 24, 18, 3, 10, 8, 4, 13, 22, 22, 15, 3, 4, 19, 23], [3, 22, 8, 10, 10, 0, 4, 14, 20, 9], [6, 21, 23, 18, 6, 1, 22, 21, 20, 19, 23, 21, 4, 10, 23, 7, 2], [10, 22, 18, 3], [4, 12, 15, 9, 13, 6, 14, 22, 5, 18, 2, 15, 0], [19, 22, 12, 4, 7, 8, 0, 21, 21, 18, 11, 10], [12, 18, 0, 15, 0], [19, 18, 14, 9, 17, 8, 3, 12, 11, 25], [18, 24, 19, 12, 8], [14, 11, 12, 11, 19, 13, 23, 8, 21, 22, 15, 15, 3, 22], [7, 17, 13, 22, 13, 17, 1, 3, 2, 2, 24, 14, 9, 0], [6, 13, 6, 14, 15, 2, 3, 20, 4, 0, 21, 14, 19, 20, 19, 2], [10, 21, 13, 25, 8, 1, 7, 2, 22], [17, 12, 14, 9, 19, 21, 12, 12, 1, 8, 16, 6, 16, 19, 1], [12, 14, 13, 10, 8, 2, 5, 7, 8, 11, 24], [1, 13, 18, 20, 4, 2, 10], [19, 23, 6, 9, 19, 22, 12, 21, 5, 15, 12, 21, 3, 8, 22, 23, 18, 16, 20], [24, 3, 18, 7, 19, 25, 14, 16], [15, 7, 2, 22, 20, 1, 10, 7], [0, 0, 11, 19, 24, 11, 14], [5, 5, 1, 23, 3, 3, 19, 7, 21, 16, 21, 22, 20, 1, 6, 12], [19, 1, 14, 16]]\n"
          ]
        }
      ]
    },
    {
      "cell_type": "code",
      "execution_count": null,
      "metadata": {
        "id": "LoLaP4_kui1O"
      },
      "outputs": [],
      "source": [
        "inputs = Input(shape=(32,128,1))\n",
        "conv_1 = Conv2D(64, (3,3), activation = 'relu', padding='same')(inputs)\n",
        "pool_1 = MaxPool2D(pool_size=(2, 2), strides=2)(conv_1)\n",
        "conv_2 = Conv2D(128, (3,3), activation = 'relu', padding='same')(pool_1)\n",
        "pool_2 = MaxPool2D(pool_size=(2, 2), strides=2)(conv_2)\n",
        "conv_3 = Conv2D(256, (3,3), activation = 'relu', padding='same')(pool_2)\n",
        "conv_4 = Conv2D(256, (3,3), activation = 'relu', padding='same')(conv_3)\n",
        "pool_4 = MaxPool2D(pool_size=(2, 1))(conv_4)\n",
        "conv_5 = Conv2D(512, (3,3), activation = 'relu', padding='same')(pool_4)\n",
        "batch_norm_5 = BatchNormalization()(conv_5)\n",
        "conv_6 = Conv2D(512, (3,3), activation = 'relu', padding='same')(batch_norm_5)\n",
        "batch_norm_6 = BatchNormalization()(conv_6)\n",
        "pool_6 = MaxPool2D(pool_size=(2, 1))(batch_norm_6)\n",
        "conv_7 = Conv2D(512, (2,2), activation = 'relu')(pool_6)\n",
        "squeezed = Lambda(lambda x: K.squeeze(x, 1))(conv_7)\n",
        "blstm_1 = Bidirectional(LSTM(128, return_sequences=True, dropout = 0.2))(squeezed)\n",
        "blstm_2 = Bidirectional(LSTM(128, return_sequences=True, dropout = 0.2))(blstm_1)\n",
        "outputs = Dense(len(char_list)+1, activation = 'softmax')(blstm_2)\n",
        "\n",
        "\n",
        "act_model = Model(inputs, outputs)\n",
        "\n",
        " \n",
        "def ctc_lambda_func(args):\n",
        "\n",
        "    y_pred, labels, input_length, label_length = args\n",
        " \n",
        "    return K.ctc_batch_cost(labels, y_pred, input_length, label_length)\n",
        "\n",
        " \n",
        "\n",
        "\n"
      ]
    },
    {
      "cell_type": "code",
      "source": [
        "act_model.load_weights('/content/drive/MyDrive/trainedmodes/CRNN_model.hdf5')\n",
        " \n"
      ],
      "metadata": {
        "id": "_MSA2lH28UnW"
      },
      "execution_count": null,
      "outputs": []
    },
    {
      "cell_type": "code",
      "source": [
        "img = cv2.imread('1.png',0)\n",
        "img=preprocess_img(img,(128,32))\n",
        "img=np.expand_dims(img,axis=-1)\n",
        "t = []\n",
        "t.append(img)\n",
        "t = np.array(t)"
      ],
      "metadata": {
        "id": "hhAK3t0FnqFR"
      },
      "execution_count": null,
      "outputs": []
    },
    {
      "cell_type": "code",
      "source": [
        "prediction = act_model.predict(t)\n",
        " \n",
        "\n",
        "out = K.get_value(K.ctc_decode(prediction, input_length=np.ones(prediction.shape[0])*prediction.shape[1],\n",
        "                         greedy=True)[0][0])\n",
        " \n",
        "\n",
        "\n",
        "for x in out:\n",
        "  \n",
        "    print(\"predicted text = \", end = '')\n",
        "    for p in x:  \n",
        "        if int(p) != -1:\n",
        "            print(char_list[int(p)], end = '')       \n",
        "    print('\\n')\n"
      ],
      "metadata": {
        "colab": {
          "base_uri": "https://localhost:8080/"
        },
        "id": "nZoL-l-wfvsh",
        "outputId": "fc852383-ead8-43bf-a006-2c70adba44ba"
      },
      "execution_count": null,
      "outputs": [
        {
          "output_type": "stream",
          "name": "stdout",
          "text": [
            "1/1 [==============================] - 0s 59ms/step\n",
            "predicted text = python\n",
            "\n"
          ]
        }
      ]
    },
    {
      "cell_type": "code",
      "source": [
        "cv2.imwrite('ma.png',valid_img[11])"
      ],
      "metadata": {
        "colab": {
          "base_uri": "https://localhost:8080/"
        },
        "id": "C2OW80nVZvg8",
        "outputId": "109dd6b0-f78f-4d9a-96b0-60bca8367609"
      },
      "execution_count": null,
      "outputs": [
        {
          "output_type": "execute_result",
          "data": {
            "text/plain": [
              "True"
            ]
          },
          "metadata": {},
          "execution_count": 18
        }
      ]
    }
  ],
  "metadata": {
    "kernelspec": {
      "display_name": "Python 3.7.0 64-bit",
      "language": "python",
      "name": "python3"
    },
    "language_info": {
      "codemirror_mode": {
        "name": "ipython",
        "version": 3
      },
      "file_extension": ".py",
      "mimetype": "text/x-python",
      "name": "python",
      "nbconvert_exporter": "python",
      "pygments_lexer": "ipython3",
      "version": "3.7.0"
    },
    "orig_nbformat": 4,
    "vscode": {
      "interpreter": {
        "hash": "252189e587d1e2aeba4a06e91fa71896c7a7f6e22e918b9407c7cde4ef2d5985"
      }
    },
    "colab": {
      "provenance": []
    }
  },
  "nbformat": 4,
  "nbformat_minor": 0
}